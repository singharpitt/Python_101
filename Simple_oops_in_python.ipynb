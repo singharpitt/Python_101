{
 "cells": [
  {
   "cell_type": "markdown",
   "metadata": {},
   "source": [
    "## Classes and Objects"
   ]
  },
  {
   "cell_type": "code",
   "execution_count": 3,
   "metadata": {},
   "outputs": [
    {
     "name": "stdout",
     "output_type": "stream",
     "text": [
      "Buddy says Woof!\n"
     ]
    }
   ],
   "source": [
    "class Dog:\n",
    "    def __init__(self, name, age):\n",
    "        # The constructor (__init__) initializes the object's attributes\n",
    "        self.name = name  # Attribute to store the dog's name\n",
    "        self.age = age    # Attribute to store the dog's age\n",
    "    \n",
    "    def bark(self):\n",
    "        # A method to define the behavior of the dog barking\n",
    "        return f\"{self.name} says Woof!\"\n",
    "\n",
    "# Creating an instance (object) of the Dog class\n",
    "my_dog = Dog(name=\"Buddy\", age=3)\n",
    "\n",
    "# Calling the bark method on the my_dog object\n",
    "print(my_dog.bark())  # Output: Buddy says Woof!\n"
   ]
  },
  {
   "cell_type": "markdown",
   "metadata": {},
   "source": [
    "## Attributes and Methods"
   ]
  },
  {
   "cell_type": "code",
   "execution_count": 4,
   "metadata": {},
   "outputs": [
    {
     "name": "stdout",
     "output_type": "stream",
     "text": [
      "The Toyota Corolla's engine is running.\n"
     ]
    }
   ],
   "source": [
    "class Car:\n",
    "    def __init__(self, make, model):\n",
    "        # Initializing attributes for the Car class\n",
    "        self.make = make  # Attribute to store the car's make\n",
    "        self.model = model  # Attribute to store the car's model\n",
    "    \n",
    "    def start_engine(self):\n",
    "        # Method to define behavior for starting the car's engine\n",
    "        return f\"The {self.make} {self.model}'s engine is running.\"\n",
    "\n",
    "# Creating an instance (object) of the Car class\n",
    "my_car = Car(make=\"Toyota\", model=\"Corolla\")\n",
    "\n",
    "# Calling the start_engine method on the my_car object\n",
    "print(my_car.start_engine())  # Output: The Toyota Corolla's engine is running.\n"
   ]
  },
  {
   "cell_type": "markdown",
   "metadata": {},
   "source": [
    "## Inheritance"
   ]
  },
  {
   "cell_type": "code",
   "execution_count": 5,
   "metadata": {},
   "outputs": [
    {
     "name": "stdout",
     "output_type": "stream",
     "text": [
      "Buddy barks.\n",
      "Whiskers meows.\n"
     ]
    }
   ],
   "source": [
    "class Animal:\n",
    "    def __init__(self, name):\n",
    "        # Constructor to initialize the Animal class\n",
    "        self.name = name  # Attribute to store the animal's name\n",
    "    \n",
    "    def speak(self):\n",
    "        # Method to define a generic animal sound\n",
    "        return f\"{self.name} makes a sound.\"\n",
    "\n",
    "class Dog(Animal):\n",
    "    # Dog inherits from Animal\n",
    "    def speak(self):\n",
    "        # Overriding the speak method to provide a dog-specific sound\n",
    "        return f\"{self.name} barks.\"\n",
    "\n",
    "class Cat(Animal):\n",
    "    # Cat also inherits from Animal\n",
    "    def speak(self):\n",
    "        # Overriding the speak method to provide a cat-specific sound\n",
    "        return f\"{self.name} meows.\"\n",
    "\n",
    "# Creating instances of the derived classes\n",
    "dog = Dog(name=\"Buddy\")\n",
    "cat = Cat(name=\"Whiskers\")\n",
    "\n",
    "# Calling the speak method on both objects\n",
    "print(dog.speak())  # Output: Buddy barks.\n",
    "print(cat.speak())  # Output: Whiskers meows.\n"
   ]
  },
  {
   "cell_type": "markdown",
   "metadata": {},
   "source": [
    "## Encapsulation"
   ]
  },
  {
   "cell_type": "code",
   "execution_count": 6,
   "metadata": {},
   "outputs": [
    {
     "name": "stdout",
     "output_type": "stream",
     "text": [
      "Alice\n",
      "Bob\n"
     ]
    }
   ],
   "source": [
    "class Person:\n",
    "    def __init__(self, name):\n",
    "        # Initializing a private attribute with double underscore\n",
    "        self.__name = name  # Private attribute\n",
    "    \n",
    "    def get_name(self):\n",
    "        # Public method to access the private attribute\n",
    "        return self.__name\n",
    "    \n",
    "    def set_name(self, name):\n",
    "        # Public method to modify the private attribute\n",
    "        self.__name = name\n",
    "\n",
    "# Creating an instance of the Person class\n",
    "person = Person(name=\"Alice\")\n",
    "\n",
    "# Accessing and modifying the private attribute through public methods\n",
    "print(person.get_name())  # Output: Alice\n",
    "person.set_name(\"Bob\")\n",
    "print(person.get_name())  # Output: Bob\n"
   ]
  },
  {
   "cell_type": "markdown",
   "metadata": {},
   "source": [
    "## Polymorphism"
   ]
  },
  {
   "cell_type": "code",
   "execution_count": 7,
   "metadata": {},
   "outputs": [
    {
     "name": "stdout",
     "output_type": "stream",
     "text": [
      "Sparrow chirps.\n",
      "Buddy barks.\n"
     ]
    }
   ],
   "source": [
    "class Bird(Animal):\n",
    "    # Bird inherits from Animal\n",
    "    def speak(self):\n",
    "        # Overriding the speak method to provide a bird-specific sound\n",
    "        return f\"{self.name} chirps.\"\n",
    "\n",
    "def make_animal_speak(animal):\n",
    "    # Function that accepts any object that has a speak method\n",
    "    print(animal.speak())\n",
    "\n",
    "# Creating instances of different animal classes\n",
    "sparrow = Bird(name=\"Sparrow\")\n",
    "dog = Dog(name=\"Buddy\")\n",
    "\n",
    "# Polymorphic behavior: passing different objects to the same function\n",
    "make_animal_speak(sparrow)  # Output: Sparrow chirps.\n",
    "make_animal_speak(dog)      # Output: Buddy barks.\n"
   ]
  },
  {
   "cell_type": "markdown",
   "metadata": {},
   "source": [
    "## Special Methods"
   ]
  },
  {
   "cell_type": "code",
   "execution_count": 8,
   "metadata": {},
   "outputs": [
    {
     "name": "stdout",
     "output_type": "stream",
     "text": [
      "Point(2, 3)\n",
      "Point(x=2, y=3)\n",
      "Point(6, 8)\n"
     ]
    }
   ],
   "source": [
    "class Point:\n",
    "    def __init__(self, x, y):\n",
    "        # Initializing the coordinates of the point\n",
    "        self.x = x\n",
    "        self.y = y\n",
    "    \n",
    "    def __str__(self):\n",
    "        # Method to provide a human-readable string representation of the object\n",
    "        return f\"Point({self.x}, {self.y})\"\n",
    "    \n",
    "    def __repr__(self):\n",
    "        # Method to provide an unambiguous string representation, useful for debugging\n",
    "        return f\"Point(x={self.x}, y={self.y})\"\n",
    "    \n",
    "    def __add__(self, other):\n",
    "        # Method to define behavior for the + operator\n",
    "        return Point(self.x + other.x, self.y + other.y)\n",
    "\n",
    "# Creating instances of the Point class\n",
    "p1 = Point(2, 3)\n",
    "p2 = Point(4, 5)\n",
    "\n",
    "# Using special methods\n",
    "print(p1)  # Output: Point(2, 3)\n",
    "print(repr(p1))  # Output: Point(x=2, y=3)\n",
    "\n",
    "# Using the overloaded + operator to add two points\n",
    "p3 = p1 + p2\n",
    "print(p3)  # Output: Point(6, 8)\n"
   ]
  },
  {
   "cell_type": "markdown",
   "metadata": {},
   "source": [
    "## Class and Static Methods"
   ]
  },
  {
   "cell_type": "code",
   "execution_count": 9,
   "metadata": {},
   "outputs": [
    {
     "name": "stdout",
     "output_type": "stream",
     "text": [
      "1\n",
      "Hello, Alice!\n"
     ]
    }
   ],
   "source": [
    "class MyClass:\n",
    "    class_variable = 0  # Class attribute\n",
    "    \n",
    "    def __init__(self, value):\n",
    "        self.value = value  # Instance attribute\n",
    "    \n",
    "    @classmethod\n",
    "    def increment_class_variable(cls):\n",
    "        # Class method to modify class-level data\n",
    "        cls.class_variable += 1\n",
    "    \n",
    "    @staticmethod\n",
    "    def greet(name):\n",
    "        # Static method that does not modify class or instance state\n",
    "        return f\"Hello, {name}!\"\n",
    "\n",
    "# Using the class method to modify class-level data\n",
    "MyClass.increment_class_variable()\n",
    "print(MyClass.class_variable)  # Output: 1\n",
    "\n",
    "# Using the static method to perform an action\n",
    "print(MyClass.greet(\"Alice\"))  # Output: Hello, Alice!\n"
   ]
  }
 ],
 "metadata": {
  "kernelspec": {
   "display_name": "Python 3",
   "language": "python",
   "name": "python3"
  },
  "language_info": {
   "codemirror_mode": {
    "name": "ipython",
    "version": 3
   },
   "file_extension": ".py",
   "mimetype": "text/x-python",
   "name": "python",
   "nbconvert_exporter": "python",
   "pygments_lexer": "ipython3",
   "version": "3.12.2"
  }
 },
 "nbformat": 4,
 "nbformat_minor": 2
}
